{
 "cells": [
  {
   "cell_type": "markdown",
   "id": "99fb1257-994d-485c-a401-4d70e04e65e5",
   "metadata": {},
   "source": [
    "# hello world------> string \n",
    "# 2 ,3 ,15 --------> int\n",
    "# 1.493 ,1.035 ----> float\n",
    "# True or False ----> boolean"
   ]
  },
  {
   "cell_type": "code",
   "execution_count": null,
   "id": "8b5ac85b-487b-4d21-9c5a-c5092a0f393b",
   "metadata": {},
   "outputs": [],
   "source": [
    "print(\"Hello world\")   "
   ]
  },
  {
   "cell_type": "code",
   "execution_count": 2,
   "id": "b704beea-7f00-42d4-823e-60a8af0e6e0d",
   "metadata": {},
   "outputs": [
    {
     "name": "stdout",
     "output_type": "stream",
     "text": [
      "Hello world  2\n"
     ]
    }
   ],
   "source": [
    "print(\"Hello world \" , 2 )"
   ]
  },
  {
   "cell_type": "code",
   "execution_count": 3,
   "id": "752c5d0b-d3c4-4945-9cf9-8e99d0012430",
   "metadata": {},
   "outputs": [
    {
     "name": "stdout",
     "output_type": "stream",
     "text": [
      "Hello world  Hello world\n"
     ]
    }
   ],
   "source": [
    "print(\"Hello world\" ,end=\"  \")\n",
    "print(\"Hello world\")"
   ]
  },
  {
   "cell_type": "code",
   "execution_count": 4,
   "id": "ff6a2434-f058-4e94-b1f1-c063dbf9db86",
   "metadata": {},
   "outputs": [
    {
     "name": "stdout",
     "output_type": "stream",
     "text": [
      "Hello world--Hello world\n"
     ]
    }
   ],
   "source": [
    "print(\"Hello world\" ,end=\"--\")\n",
    "print(\"Hello world\")"
   ]
  },
  {
   "cell_type": "code",
   "execution_count": 5,
   "id": "2551a68c-1dbf-41bc-aa49-a1159da5b635",
   "metadata": {},
   "outputs": [
    {
     "name": "stdout",
     "output_type": "stream",
     "text": [
      "1\n"
     ]
    }
   ],
   "source": [
    "print(1)"
   ]
  },
  {
   "cell_type": "code",
   "execution_count": 7,
   "id": "9d68dae4-bd31-46ff-9e43-41219d1c36ba",
   "metadata": {},
   "outputs": [
    {
     "name": "stdout",
     "output_type": "stream",
     "text": [
      "1.5531\n"
     ]
    }
   ],
   "source": [
    "print(1.5531)"
   ]
  },
  {
   "cell_type": "code",
   "execution_count": 8,
   "id": "4f1c1a93-d429-4e1c-9dd4-6554f020d835",
   "metadata": {},
   "outputs": [
    {
     "name": "stdout",
     "output_type": "stream",
     "text": [
      "True\n"
     ]
    }
   ],
   "source": [
    "print (True)"
   ]
  },
  {
   "cell_type": "code",
   "execution_count": null,
   "id": "c1a2c895-c458-4784-821e-b40893f87b6e",
   "metadata": {},
   "outputs": [],
   "source": [
    "# == -----> is equal \n",
    "# != -----> is not equal\n",
    "# + ------> sum\n",
    "# - ------> subtract\n",
    "# * ------> multiply\n",
    "# / ------> divide\n",
    "# ** -----> power\n",
    "# % ------> moduls\n",
    "# // -----> floor\n",
    "# += -----> +\n",
    "# -= -----> -\n",
    "# *= -----> *\n",
    "# /= -----> /"
   ]
  },
  {
   "cell_type": "code",
   "execution_count": 10,
   "id": "fa34bc82-31b1-40d0-aa42-f43114c4da8b",
   "metadata": {},
   "outputs": [
    {
     "data": {
      "text/plain": [
       "2"
      ]
     },
     "execution_count": 10,
     "metadata": {},
     "output_type": "execute_result"
    }
   ],
   "source": [
    "1+1"
   ]
  },
  {
   "cell_type": "code",
   "execution_count": 11,
   "id": "22e15f00-122b-466f-9d90-daf5e3bdee95",
   "metadata": {},
   "outputs": [
    {
     "data": {
      "text/plain": [
       "1"
      ]
     },
     "execution_count": 11,
     "metadata": {},
     "output_type": "execute_result"
    }
   ],
   "source": [
    "3-2"
   ]
  },
  {
   "cell_type": "code",
   "execution_count": 12,
   "id": "74ad49be-5476-4d63-be01-6371ba819dae",
   "metadata": {},
   "outputs": [
    {
     "data": {
      "text/plain": [
       "0"
      ]
     },
     "execution_count": 12,
     "metadata": {},
     "output_type": "execute_result"
    }
   ],
   "source": [
    "8%2"
   ]
  },
  {
   "cell_type": "code",
   "execution_count": 13,
   "id": "1cf51411-367a-4b41-b724-98d854a757cb",
   "metadata": {},
   "outputs": [
    {
     "data": {
      "text/plain": [
       "27"
      ]
     },
     "execution_count": 13,
     "metadata": {},
     "output_type": "execute_result"
    }
   ],
   "source": [
    "3**3"
   ]
  },
  {
   "cell_type": "code",
   "execution_count": null,
   "id": "fbb5cfd1-8676-48f9-a84e-5ea5d8c88814",
   "metadata": {},
   "outputs": [],
   "source": [
    "# () -------> tuple\n",
    "# []--------> list\n",
    "# {}--------> set "
   ]
  },
  {
   "cell_type": "code",
   "execution_count": 14,
   "id": "6b57c0ce-d9a9-4341-a94c-b6e3a112b1d7",
   "metadata": {},
   "outputs": [
    {
     "name": "stdout",
     "output_type": "stream",
     "text": [
      "sara tarek\n"
     ]
    }
   ],
   "source": [
    "frist_name=\"sara\"\n",
    "last_name=\"tarek\"\n",
    "\n",
    "print(frist_name , last_name)"
   ]
  },
  {
   "cell_type": "code",
   "execution_count": 15,
   "id": "c0ff3819-81fa-401b-b20b-e958f593cb64",
   "metadata": {},
   "outputs": [
    {
     "name": "stdin",
     "output_type": "stream",
     "text": [
      " sara\n"
     ]
    },
    {
     "name": "stdout",
     "output_type": "stream",
     "text": [
      "sara\n",
      "<class 'str'>\n"
     ]
    }
   ],
   "source": [
    "first_name =input()\n",
    "\n",
    "print(first_name)\n",
    "print(type(first_name))"
   ]
  },
  {
   "cell_type": "code",
   "execution_count": 16,
   "id": "8442bac2-6151-4279-8582-15bd3f99ecc2",
   "metadata": {},
   "outputs": [
    {
     "name": "stdin",
     "output_type": "stream",
     "text": [
      "enter your name : sara\n"
     ]
    },
    {
     "name": "stdout",
     "output_type": "stream",
     "text": [
      "sara\n",
      "<class 'str'>\n"
     ]
    }
   ],
   "source": [
    "first_name=input(\"enter your name :\")\n",
    "\n",
    "print(first_name)\n",
    "print(type(first_name))"
   ]
  },
  {
   "cell_type": "code",
   "execution_count": 17,
   "id": "08bbb1cb-e028-4af5-a663-0c351df2c04e",
   "metadata": {},
   "outputs": [
    {
     "name": "stdin",
     "output_type": "stream",
     "text": [
      "enter your age : 22\n"
     ]
    }
   ],
   "source": [
    "age=input(\"enter your age :\")"
   ]
  },
  {
   "cell_type": "code",
   "execution_count": 20,
   "id": "d40d2d0a-c707-414d-a608-4f4ef6194683",
   "metadata": {},
   "outputs": [
    {
     "name": "stdin",
     "output_type": "stream",
     "text": [
      "enter your first name : sara \n",
      "enter your last name :  tarek\n",
      "enter your age : 22\n"
     ]
    },
    {
     "name": "stdout",
     "output_type": "stream",
     "text": [
      "***********************************\n",
      "your name  sara  tarek\n",
      "your age 22\n"
     ]
    }
   ],
   "source": [
    "first_name=input(\"enter your first name :\")\n",
    "last_name=input (\"enter your last name : \")\n",
    "age=input (\"enter your age :\")\n",
    "\n",
    "print(\"***********************************\")\n",
    "\n",
    "print(\"your name \" , first_name ,last_name)\n",
    "print(\"your age\" , age)"
   ]
  },
  {
   "cell_type": "code",
   "execution_count": null,
   "id": "1ad80be5-0c67-4528-ae1f-fa16b097c742",
   "metadata": {},
   "outputs": [],
   "source": []
  },
  {
   "cell_type": "code",
   "execution_count": null,
   "id": "0b521892-155b-4f23-a9fe-e555608ff40c",
   "metadata": {},
   "outputs": [],
   "source": []
  }
 ],
 "metadata": {
  "kernelspec": {
   "display_name": "Python 3 (ipykernel)",
   "language": "python",
   "name": "python3"
  },
  "language_info": {
   "codemirror_mode": {
    "name": "ipython",
    "version": 3
   },
   "file_extension": ".py",
   "mimetype": "text/x-python",
   "name": "python",
   "nbconvert_exporter": "python",
   "pygments_lexer": "ipython3",
   "version": "3.12.4"
  }
 },
 "nbformat": 4,
 "nbformat_minor": 5
}
